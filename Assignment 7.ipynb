{
 "cells": [
  {
   "cell_type": "code",
   "execution_count": 1,
   "id": "196b6cb0",
   "metadata": {},
   "outputs": [],
   "source": [
    "#Assignment 7"
   ]
  },
  {
   "cell_type": "code",
   "execution_count": 2,
   "id": "7a2532b1",
   "metadata": {},
   "outputs": [],
   "source": [
    "#Q.1"
   ]
  },
  {
   "cell_type": "code",
   "execution_count": 4,
   "id": "1c9f191c",
   "metadata": {},
   "outputs": [
    {
     "name": "stdout",
     "output_type": "stream",
     "text": [
      "[[  1   1   1   1   1]\n",
      " [ 16   8   4   2   1]\n",
      " [ 81  27   9   3   1]\n",
      " [256  64  16   4   1]\n",
      " [625 125  25   5   1]]\n"
     ]
    }
   ],
   "source": [
    "import numpy as np\n",
    "x=np.array([1,2,3,4,5])\n",
    "N=5\n",
    "matrix=np.column_stack([x**(N-i-1) for i in range (N)])\n",
    "print(matrix)"
   ]
  },
  {
   "cell_type": "code",
   "execution_count": 5,
   "id": "5748abf5",
   "metadata": {},
   "outputs": [
    {
     "data": {
      "text/plain": [
       "287.9999999999977"
      ]
     },
     "execution_count": 5,
     "metadata": {},
     "output_type": "execute_result"
    }
   ],
   "source": [
    "np.linalg.det(matrix)"
   ]
  },
  {
   "cell_type": "code",
   "execution_count": 7,
   "id": "5fa1e241",
   "metadata": {},
   "outputs": [],
   "source": [
    "#Q.2\n"
   ]
  },
  {
   "cell_type": "code",
   "execution_count": 13,
   "id": "3c46bba5",
   "metadata": {},
   "outputs": [
    {
     "name": "stdout",
     "output_type": "stream",
     "text": [
      "----------------------------------------\n",
      " User defined List :-\n",
      " [3, 5, 7, 2, 8, 10, 11, 65, 72, 81, 99, 100, 150] \n",
      " User Define Window Size :-\t 3 \n",
      "----------------------------------------\n",
      " Result Using above defined Funtion :\t\n",
      " Moving average value :\n",
      " [5.0, 4.67, 5.67, 6.67, 9.67, 28.67, 49.33, 72.67, 84.0, 93.33, 116.33]\n",
      " Moving average seques has :- 11, values\n",
      "----------------------------------------\n"
     ]
    }
   ],
   "source": [
    "List_a = [3,5,7,2,8,10,11,65,72,81,99,100,150]\n",
    "\n",
    "moving_seq = 3\n",
    "cummlative_sum , moving_average = [0],[]\n",
    "\n",
    "def Moving_average_fun(List_a, moveing_seq): \n",
    "    N =  moving_seq \n",
    "    for i , j  in enumerate(List_a,1): \n",
    "        cummlative_sum.append(cummlative_sum[i-1] + j) \n",
    "\n",
    "        if i>=N: \n",
    "            moving_ave = round((cummlative_sum[i] - cummlative_sum[i-N])/N,2) \n",
    "\n",
    "            moving_average.append(moving_ave) \n",
    "    return (moving_average), len(moving_average) \n",
    "\n",
    "Result_fun = Moving_average_fun(List_a,moving_seq)\n",
    "\n",
    "print (\"----\"*10)\n",
    "print (\" User defined List :-\\n {} \\n User Define Window Size :-\\t {} \".format(List_a,moving_seq))\n",
    "print (\"----\"*10)\n",
    "print (\" Result Using above defined Funtion :\\t\")\n",
    "print (\" Moving average value :\\n\",Result_fun[0])\n",
    "print (\" Moving average seques has :- {}, values\".format(Result_fun[1]))\n",
    "print (\"----\"*10)"
   ]
  },
  {
   "cell_type": "code",
   "execution_count": 9,
   "id": "6a0dcad0",
   "metadata": {},
   "outputs": [],
   "source": [
    "#Given a sequence of n values x1, x2, ..., xn and a window size k>0, the k-th moving average of  the given sequence is defined as follows: "
   ]
  },
  {
   "cell_type": "code",
   "execution_count": 10,
   "id": "cdb1437c",
   "metadata": {},
   "outputs": [
    {
     "name": "stdout",
     "output_type": "stream",
     "text": [
      "[  5.           4.66666667   5.66666667   6.66666667   9.66666667\n",
      "  28.66666667  49.33333333  72.66666667  84.          93.33333333\n",
      " 116.33333333]\n"
     ]
    }
   ],
   "source": [
    "import numpy as np\n",
    "def moving_average(a, n=3) :\n",
    "    ret = np.cumsum(a, dtype=float)\n",
    "    ret[n:] = ret[n:] - ret[:-n]\n",
    "    return ret[n - 1:] / n\n",
    "a = [3, 5, 7, 2, 8, 10, 11, 65, 72, 81, 99, 100, 150]\n",
    "print(moving_average(a, n=3))"
   ]
  },
  {
   "cell_type": "code",
   "execution_count": null,
   "id": "92e8fd30",
   "metadata": {},
   "outputs": [],
   "source": []
  }
 ],
 "metadata": {
  "kernelspec": {
   "display_name": "Python 3",
   "language": "python",
   "name": "python3"
  },
  "language_info": {
   "codemirror_mode": {
    "name": "ipython",
    "version": 3
   },
   "file_extension": ".py",
   "mimetype": "text/x-python",
   "name": "python",
   "nbconvert_exporter": "python",
   "pygments_lexer": "ipython3",
   "version": "3.8.8"
  }
 },
 "nbformat": 4,
 "nbformat_minor": 5
}
